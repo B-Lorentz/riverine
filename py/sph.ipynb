{
  "nbformat": 4,
  "nbformat_minor": 0,
  "metadata": {
    "colab": {
      "name": "sph.ipynb",
      "provenance": [],
      "collapsed_sections": [],
      "toc_visible": true,
      "authorship_tag": "ABX9TyPsqM6o6rcURa9q3YlY4Fea",
      "include_colab_link": true
    },
    "kernelspec": {
      "name": "python3",
      "display_name": "Python 3"
    },
    "language_info": {
      "name": "python"
    },
    "accelerator": "GPU"
  },
  "cells": [
    {
      "cell_type": "markdown",
      "metadata": {
        "id": "view-in-github",
        "colab_type": "text"
      },
      "source": [
        "<a href=\"https://colab.research.google.com/github/B-Lorentz/riverine/blob/master/py/sph.ipynb\" target=\"_parent\"><img src=\"https://colab.research.google.com/assets/colab-badge.svg\" alt=\"Open In Colab\"/></a>"
      ]
    },
    {
      "cell_type": "code",
      "metadata": {
        "id": "bfvz5idSw14g"
      },
      "source": [
        "import numpy as np\n",
        "from matplotlib import pyplot as plt\n",
        "from jax import grad, vmap, jit, lax\n",
        "from jax import numpy as jnp\n",
        "from jax import random as rand\n",
        "import jax\n",
        "import functools as func\n",
        "from dataclasses import dataclass"
      ],
      "execution_count": null,
      "outputs": []
    },
    {
      "cell_type": "code",
      "metadata": {
        "id": "x6CLVgmGO2Bj"
      },
      "source": [
        "import pathlib\n",
        "def once_in_a_VM(fname):\n",
        "  pat = pathlib.Path(fname)\n",
        "  if pat.exists():\n",
        "      return False\n",
        "  else:\n",
        "    pat.mkdir()\n",
        "    return True\n",
        "if once_in_a_VM(\"download\"):\n",
        "  !git clone https://github.com/B-Lorentz/riverine.git"
      ],
      "execution_count": null,
      "outputs": []
    },
    {
      "cell_type": "code",
      "metadata": {
        "id": "V5oCimIdKkiJ"
      },
      "source": [
        "if once_in_a_VM(\"install\"):\n",
        "  !pip install -e riverine/py\n",
        "  !pip install --upgrade matplotlib"
      ],
      "execution_count": null,
      "outputs": []
    },
    {
      "cell_type": "code",
      "metadata": {
        "id": "WeoJhLdCLYYO"
      },
      "source": [
        "from utils.height_field import *"
      ],
      "execution_count": null,
      "outputs": []
    },
    {
      "cell_type": "code",
      "metadata": {
        "id": "chon-Ka3PYiB"
      },
      "source": [
        "\n",
        "def show_terrain(b, d, threshold=1e-7):\n",
        "  #print(d.shape, b.shape)\n",
        "  fig, ax = plt.subplots(subplot_kw={\"projection\": \"3d\"}, figsize=(14, 10))\n",
        "  x, y = np.meshgrid(np.arange(b.shape[1]), np.arange(b.shape[0]))\n",
        "  #print(x.shape, y.shape)\n",
        "  color = np.array([0.0,0.0,0.9])*((d>threshold)*(0.1 + (b+d)/(b+d).max()))[:,:,np.newaxis] + np.array([0.8, 0.5, 0])*(b/b.max()*(d<threshold))[:,:,np.newaxis]\n",
        "\n",
        "  ax.plot_wireframe(x, y, b, color=\"black\")\n",
        "  surf = ax.plot_surface(x, y, b+d, facecolors=color, antialiased=False, shade=True)\n",
        " \n",
        "  return ax\n",
        "\n",
        "h = tilt_hf(20, 0.1, 0.0)[:,:10]\n",
        "w = np.zeros_like(h)+.0\n",
        "w[4, 6] = 0.01 \n",
        "w[4, 7] = 0.01 \n",
        "ax = show_terrain(h, w)\n",
        "ax.view_init(30, -120)"
      ],
      "execution_count": null,
      "outputs": []
    },
    {
      "cell_type": "markdown",
      "metadata": {
        "id": "4nBuRzyV6rM5"
      },
      "source": [
        "An eulerian 2D method using shallow-water equations:\n",
        "Mei, Decaudin & Hu:\n",
        "*Fast Hydraulic Erosion Simulation and Visualization on GPU*"
      ]
    },
    {
      "cell_type": "code",
      "metadata": {
        "id": "cW8FSe-TrhNB"
      },
      "source": [
        "dirs = np.array([[1, 0], [1, 1], [0, 1], [-1, 1], [-1, 0], [-1, -1], [0, -1], [1, -1]])\n",
        "#dirs = np.array([[1, 0], [0, 1], [-1, 0], [0, -1]])\n",
        "from matplotlib.ticker import (AutoMinorLocator, MultipleLocator)\n",
        "def flow_init(h, dirs):\n",
        "  return np.zeros((dirs.shape[0], *h.shape))\n",
        "\n",
        "def flow_conv(h, dirs):\n",
        "  kernel = np.zeros((dirs.shape[0], 1, 3, 3))\n",
        "  for i, dir in enumerate(dirs):\n",
        "    d = np.sqrt(np.power(dir, 2).sum())\n",
        "    kernel[i, 0, 1, 1] += 1/d\n",
        "    kernel[i, 0, 1+dir[0], 1+dir[1]] += -1/d\n",
        " \n",
        "  res = lax.conv(h[np.newaxis,np.newaxis,:,:], kernel, (1,1),padding=\"VALID\").squeeze()\n",
        " \n",
        "  return jnp.pad(res, ((0,0), (1, 1), (1, 1)), mode=\"edge\")\n",
        "\n",
        "def collect_conv(f, dirs):\n",
        "  kernel = np.zeros((1, dirs.shape[0], 3, 3))\n",
        "  for i, dir in enumerate(dirs):\n",
        "    kernel[0, i, 1, 1] += -1.0\n",
        "    kernel[0, i, 1-dir[0], 1-dir[1]] += 1.0\n",
        "  \n",
        "  res = lax.conv(jnp.pad(f, ((0,0),(1, 1), (1, 1)), mode=\"edge\")[np.newaxis,:,:,:], kernel, (1,1),padding=\"VALID\", precision=lax.Precision.HIGHEST).squeeze()\n",
        "  return res\n",
        "\n",
        "def f_scale(f, w, dt):\n",
        "  f = jnp.maximum(f, 0.0)\n",
        "  return f*jnp.minimum(1.0, w/(dt * (f.sum(0) + 1e-9)))\n",
        "\n",
        "def flow_quiver(h, w, f, markers = ([], [])):\n",
        "  plt.figure(figsize=(18, 10))\n",
        "  x, y = np.meshgrid(np.arange(h.shape[-2]), np.arange(h.shape[-1]))\n",
        " \n",
        "  plt.imshow(h.T, origin=\"lower\", )\n",
        "  plt.scatter(x.T, y.T, s=3000*w, c=\"r\")\n",
        "  plt.scatter(markers[0], markers[1], s=100, marker=\"x\" )\n",
        "  plt.gca().xaxis.set_major_locator(MultipleLocator(1))\n",
        "  plt.gca().yaxis.set_major_locator(MultipleLocator(1))\n",
        "  plt.grid()\n",
        "  print(h.shape)\n",
        "  for dir, f_ in zip(dirs, f):\n",
        "    d = np.sqrt(np.power(dir, 2).sum())\n",
        "    plt.quiver(x.T, y.T, dir[0]*f_/d, dir[1]*f_/d, scale=1, units=\"xy\", width=0.04, headlength=5)\n",
        " \n",
        " \n",
        "f = flow_init(h, dirs)\n",
        "f[1] = 1.0\n",
        "f = flow_conv(h + w, dirs)\n",
        "#print(f[2])\n",
        "print(f.sum())\n",
        "f = f_scale(f, w, 0.1)\n",
        "print(f.sum())\n",
        "w1 = collect_conv(f, dirs)\n",
        "print(w1.min(), w1.max())\n",
        "flow_quiver(h, 10*(w+w1), f*300)\n",
        "print(w.sum(), w1.sum())"
      ],
      "execution_count": null,
      "outputs": []
    },
    {
      "cell_type": "code",
      "metadata": {
        "id": "1Lozp8xfPydW"
      },
      "source": [
        "def v_conv(f, dirs):\n",
        "  kernel = np.zeros((2, dirs.shape[0], 3, 3))\n",
        "  bvs = np.array(((1, 0), (0, 1.0)))\n",
        "  for i, dir in enumerate(dirs):\n",
        "    dot = (bvs*dir).sum(-1)/(dir**2).sum()\n",
        "   \n",
        "    kernel[:, i, 1, 1] += 0.5*dot\n",
        "    kernel[:, i, 1+dir[0], 1+dir[1]] += 0.5*dot\n",
        "  res = lax.conv(jnp.pad(f, ((0, 0), (1, 1), (1, 1)), mode=\"edge\")[np.newaxis,:,:], kernel, (1,1),padding=\"VALID\").squeeze()\n",
        "  return res\n",
        "\n",
        "def vector_quiver(vs, **kwargs):\n",
        "  x, y = np.meshgrid(np.arange(vs.shape[-2]), np.arange(vs.shape[-1]))\n",
        "  plt.quiver(x.T, y.T, vs[0], vs[1], **kwargs)\n",
        "ftest = flow_init(h, dirs)\n",
        "ftest[0,:,:] = 0.1\n",
        "ftest[6,:,:] = 0.3\n",
        "vs = v_conv(ftest, dirs)\n",
        "flow_quiver(h, 0, 4*ftest)\n",
        "vector_quiver(4*vs, scale=1, units=\"xy\", width=0.03, headlength=5, color=\"blue\")"
      ],
      "execution_count": null,
      "outputs": []
    },
    {
      "cell_type": "code",
      "metadata": {
        "id": "LTc3v1Hm-4dK"
      },
      "source": [
        "def make_erosion( K_dis, K_depo, signed_capacity, woff=1.0, wc=-1 ):\n",
        "  def erosion(h, w, s, f):\n",
        "    wv = v_conv(f, dirs)*(w + woff)**wc\n",
        "    vabs = jnp.sqrt((wv**2).sum(0))\n",
        "  \n",
        "    C_s = signed_capacity(vabs, s)\n",
        "    erodes = (C_s>0)\n",
        "    return (erodes*K_dis + (~erodes)*K_depo )*(C_s)\n",
        "  return erosion\n",
        "\n",
        "def make_update(source, dt, dirs, gA, nu, K_evap, erosion, logger=lambda h, w, f, s, dh, dw: None):\n",
        "  l = np.sqrt(np.power(dirs, 2).sum(-1))\n",
        "  def update(h, w, f, s):\n",
        "    # Source term\n",
        "    w = w + source*dt\n",
        "    # Flow update\n",
        "\n",
        "    df = gA*flow_conv(h+w, dirs) - nu*f\n",
        "    f = f + dt*df\n",
        "    f = f_scale(f, w, dt)\n",
        "    dw = collect_conv(f, dirs)*dt\n",
        "    w = w + dw\n",
        "    # Sediment carry\n",
        "    \n",
        "    dh = erosion(h, w, s, f)*dt\n",
        "    h = h - dh\n",
        "    s = s + dh\n",
        "    \n",
        "    # Sediment transport\n",
        "    fs = f_scale(f*s, s, dt)\n",
        "    s = s + collect_conv(fs, dirs)*dt\n",
        "    s = jnp.maximum(s, 0)\n",
        "\n",
        "    # Evaporation\n",
        "    w = w*(1- K_evap*dt)\n",
        "\n",
        "    return h, w, f, s, logger(h, w, f, s, dh, dw)\n",
        "  return update"
      ],
      "execution_count": null,
      "outputs": []
    },
    {
      "cell_type": "code",
      "metadata": {
        "id": "w0vGijdOxOZ9"
      },
      "source": [
        "\n",
        "def zinit(h, dirs):\n",
        "  return  np.zeros_like(h), flow_init(h, dirs)\n",
        "def trace_sim(update, h, w, N):\n",
        "  s, f = zinit(h, dirs)\n",
        "  \n",
        "  def upd(state, _):\n",
        "    h, w, f, s, log= update(*state)\n",
        "    return (h, w, f, s), log\n",
        "  end, log = jax.lax.scan(jit(upd), (h, w, f, s), xs=None, length=N)\n",
        "  return end, log \n",
        "\n",
        "for_sim_ = lambda upd, N : lambda state : jax.lax.fori_loop(0, N, jit(upd), state)\n",
        "\n",
        "def for_sim(update, h, w, N):\n",
        "  s, f = zinit(h, dirs)\n",
        "  \n",
        "  def upd(i, state):\n",
        "    h, w, f, s, log= update(*state)\n",
        "    return (h, w, f, s)\n",
        "  end = for_sim_(upd, N)((h,w, f, s))\n",
        "  return end"
      ],
      "execution_count": null,
      "outputs": []
    },
    {
      "cell_type": "code",
      "metadata": {
        "id": "4hNgnC8BAKLA"
      },
      "source": [
        "zero_erosion = make_erosion( K_dis=0.0, K_depo=0.0, signed_capacity=lambda v,s: 0.0)\n",
        "res, log = trace_sim(make_update(0, 0.05, dirs, 9.81, 0.1, \n",
        "                                        K_evap=0.01, erosion=zero_erosion, logger=lambda h, w, f, s, dh, dw: w), h, w, 100)"
      ],
      "execution_count": null,
      "outputs": []
    },
    {
      "cell_type": "code",
      "metadata": {
        "id": "iYC1CrwHdd-k"
      },
      "source": [
        "ax = show_terrain(h, log[200].to_py())\n",
        "ax.view_init(30, -120)"
      ],
      "execution_count": null,
      "outputs": []
    },
    {
      "cell_type": "code",
      "metadata": {
        "id": "OfwUGQywcpHs"
      },
      "source": [
        "plt.plot(log.sum(-1).sum(-1))\n",
        "plt.grid()"
      ],
      "execution_count": null,
      "outputs": []
    },
    {
      "cell_type": "code",
      "metadata": {
        "id": "VvVRSyNXdPLI"
      },
      "source": [
        "def basin_experiment():\n",
        "  N = 100\n",
        "  h1 = basin_hf(N)\n",
        "  w1 = np.maximum(tilt_hf(N, 0.1, 0.1)+0.2-h1,0)\n",
        "\n",
        " \n",
        "  res, log = trace_sim(make_update(0, 0.1, dirs, gA=9.81, nu=0.1,K_evap=0.01, \n",
        "                                        erosion=zero_erosion,\n",
        "                                        logger=lambda h, w, f, s, dh, dw: w), h1, w1, 1000)\n",
        "\n",
        "  \n",
        "  return h1, w1, res, log\n",
        "\n",
        "def basin_plot(result):\n",
        "  h1, w1, res, log = result\n",
        "\n",
        "  ax = show_terrain(h1, w1)\n",
        "  ax.view_init(20, 120)\n",
        "  ax = show_terrain(h1, log[-1].to_py())\n",
        "  ax.view_init(20, 120)\n",
        "  \n",
        "  plt.figure(figsize=(8, 4))\n",
        "  plt.plot(log[:, 70, 70])\n",
        "  plt.grid()\n",
        " \n",
        "  plt.xlabel(\"t\", fontsize=14)\n",
        "  plt.ylabel(\"water level\", fontsize=14)"
      ],
      "execution_count": null,
      "outputs": []
    },
    {
      "cell_type": "code",
      "metadata": {
        "id": "y74jlBYWbrwP"
      },
      "source": [
        "res = basin_experiment()"
      ],
      "execution_count": null,
      "outputs": []
    },
    {
      "cell_type": "code",
      "metadata": {
        "id": "dUlpxqIbKGil"
      },
      "source": [
        "basin_plot(res)"
      ],
      "execution_count": null,
      "outputs": []
    },
    {
      "cell_type": "code",
      "metadata": {
        "id": "pS0Locbg6_Y5"
      },
      "source": [
        "from matplotlib import colors\n",
        "def plot_v(f, name, **kwargs):\n",
        "  plt.imshow(f.T, origin=\"lower\", **kwargs)\n",
        "  plt.title(name, fontsize=14)\n",
        "  plt.xlabel(\"x\")\n",
        "  plt.ylabel(\"y\")\n",
        "  plt.colorbar()\n",
        "\n",
        "\n",
        "def before_after(res):\n",
        "  \n",
        "  h, w, source, (h1, w1, f, s) = res\n",
        "  N = h1.shape[0]\n",
        "\n",
        "  def plot_marginals(w):\n",
        "    norm = lambda q: q/np.abs(q).max()*10\n",
        "    plt.plot(norm(w.sum(0)), np.arange(N), \"r\")\n",
        "    plt.plot(norm(w.sum(-1)), \"r\")\n",
        "\n",
        "  plt.figure(figsize=(18, 18))\n",
        "  \n",
        "\n",
        "  plt.subplot(221)\n",
        "  v = v_conv(f, dirs)\n",
        "  print(v.shape)\n",
        "  vector_quiver(1.0*v, color=\"white\", units=\"xy\", scale=0.5, headlength=1)\n",
        "  vabs = np.sqrt((v**2).sum(0))\n",
        "  plot_v(vabs, \"|v|*w\")\n",
        "  plot_marginals(vabs)\n",
        "\n",
        "  plt.subplot(222)\n",
        "  plot_v(w1, r\"$w_1$: water level\")\n",
        "  plot_marginals(w1)\n",
        "\n",
        "  plt.subplot(223)\n",
        "  plot_v(h1, r\"$h_1 + w1$: height field \", cmap=\"terrain\", vmin = -0.5)\n",
        "  plt.plot(10*h1[0,:],np.arange(N), \"r\")\n",
        "  plt.plot(10*(h1[0,:]+w1[0,:]),np.arange(N), \"b\")\n",
        "\n",
        "  plt.subplot(224)\n",
        "  dh = h-h1\n",
        "  plot_v(dh, r\"-$\\Delta h$: height loss\",norm=colors.CenteredNorm(), cmap=\"coolwarm\")\n",
        "  \n",
        "  plot_marginals(dh)\n"
      ],
      "execution_count": null,
      "outputs": []
    },
    {
      "cell_type": "markdown",
      "metadata": {
        "id": "qN7qIG0--BN_"
      },
      "source": [
        "## Csatorna kisérletek"
      ]
    },
    {
      "cell_type": "code",
      "metadata": {
        "id": "3eJSQmVYMDEq"
      },
      "source": [
        "def wavy_field(N, amplitude, tilt, water_level):\n",
        "  h = sine_hf(N, 1.0, amplitude)\n",
        "  #h[-5:,:] += 1.0\n",
        "  w = np.zeros((N, N))\n",
        "  w += np.maximum(water_level-h, 0)\n",
        "  return h+tilt_hf(N, 0.0, tilt)+2, w\n",
        "def wavy_channel_experiment(wf, erosion):\n",
        "  h, w = wf\n",
        "  source = np.zeros(w.shape)\n",
        "  #source[-1,:] += 1.0*(w[-1,:]>0.001)*w[-1,:]\n",
        "  res = for_sim(make_update(source, 0.1, dirs, gA=9.81, nu=0.1, K_evap=0.001, \n",
        "                                        erosion=erosion), h, w, 5000)\n",
        "  return h, w, source, res\n",
        "\n",
        "wf = wavy_field(100, 0.0, 0.5, 0.5)\n",
        "ax = show_terrain(wf[0], wf[1])"
      ],
      "execution_count": null,
      "outputs": []
    },
    {
      "cell_type": "markdown",
      "metadata": {
        "id": "yac9TmlM-fL5"
      },
      "source": [
        "### Egyenes csatorna"
      ]
    },
    {
      "cell_type": "markdown",
      "metadata": {
        "id": "WcA5kyPR9Hh4"
      },
      "source": [
        "Csináltunk egy egyszerű, lejtő csatornát. Először erózió nélkül megnézzük, milyen egyensúlyi sebességeloszlás alakul ki."
      ]
    },
    {
      "cell_type": "code",
      "metadata": {
        "id": "9U9Ipq4T-QYC"
      },
      "source": [
        "res = wavy_channel_experiment(wf, zero_erosion)\n",
        "before_after(res)"
      ],
      "execution_count": null,
      "outputs": []
    },
    {
      "cell_type": "code",
      "metadata": {
        "id": "38j4uCW_7v_a"
      },
      "source": [
        "erosion = make_erosion( K_dis = 0.1, K_depo = 0.01, signed_capacity=lambda v, s: 0.1*v - s, wc=0)\n",
        "res = wavy_channel_experiment(wf, erosion)\n",
        "before_after(res)"
      ],
      "execution_count": null,
      "outputs": []
    },
    {
      "cell_type": "markdown",
      "metadata": {
        "id": "0_9uFFbV9Uti"
      },
      "source": [
        "Ez a víz többet tud szállítani"
      ]
    },
    {
      "cell_type": "code",
      "metadata": {
        "id": "Jj3rwdvyZcnt"
      },
      "source": [
        "erosion = make_erosion( K_dis = 0.1, K_depo = 0.01, signed_capacity=lambda v, s: 1.0*v - s, wc=0)\n",
        "res = wavy_channel_experiment(wf, erosion)\n",
        "before_after(res)"
      ],
      "execution_count": null,
      "outputs": []
    },
    {
      "cell_type": "markdown",
      "metadata": {
        "id": "HEwG3UXQ9b66"
      },
      "source": [
        "Ha a szállítási kapacítás a sebességgel és nem az impluzussal arányos, egy széles és visznylag lapos medret kapunk"
      ]
    },
    {
      "cell_type": "code",
      "metadata": {
        "id": "6VzzT4qE8O3c"
      },
      "source": [
        "erosion = make_erosion( K_dis = 0.1, K_depo = 0.01, signed_capacity=lambda v, s: 0.1*v - s, woff=0.05,wc=-1, )\n",
        "res = wavy_channel_experiment(wf, erosion)\n",
        "before_after(res)"
      ],
      "execution_count": null,
      "outputs": []
    },
    {
      "cell_type": "code",
      "metadata": {
        "id": "INgM-Loxdkq2"
      },
      "source": [
        "ax = show_terrain(res[3][0].to_py(), res[3][1].to_py())"
      ],
      "execution_count": null,
      "outputs": []
    },
    {
      "cell_type": "markdown",
      "metadata": {
        "id": "2l9uIqm1-o9K"
      },
      "source": [
        "### Hullámos csatorna"
      ]
    },
    {
      "cell_type": "code",
      "metadata": {
        "id": "KNcrqETt-aip"
      },
      "source": [
        "wf = wavy_field(100, 0.4, 0.5, 0.5)\n",
        "ax = show_terrain(wf[0], wf[1])"
      ],
      "execution_count": null,
      "outputs": []
    },
    {
      "cell_type": "markdown",
      "metadata": {
        "id": "cEEKwRci_IB2"
      },
      "source": [
        "Megfigyelhető, hogy a hidrodinamikai modellünk a valósággal ellentétben a belső íveken jelez gyorsabb folyást:"
      ]
    },
    {
      "cell_type": "code",
      "metadata": {
        "id": "XSskqH4S-7XN"
      },
      "source": [
        "res = wavy_channel_experiment(wf, zero_erosion)\n",
        "before_after(res)"
      ],
      "execution_count": null,
      "outputs": []
    },
    {
      "cell_type": "code",
      "metadata": {
        "id": "kWt3aJpR_ZfV"
      },
      "source": [
        "res = wavy_channel_experiment(wf, make_erosion( K_dis = 0.1, K_depo = 0.01, signed_capacity=lambda v, s: 0.1*v - s, wc=0))\n",
        "before_after(res)"
      ],
      "execution_count": null,
      "outputs": []
    },
    {
      "cell_type": "code",
      "metadata": {
        "id": "_dUPhKfL_paU"
      },
      "source": [
        "res = wavy_channel_experiment(wf, make_erosion( K_dis = 0.1, K_depo = 0.01, signed_capacity=lambda v, s: 0.1*v - s, woff=0.05,wc=-1, ))\n",
        "before_after(res)"
      ],
      "execution_count": null,
      "outputs": []
    },
    {
      "cell_type": "markdown",
      "metadata": {
        "id": "4_wbgj_4AbSK"
      },
      "source": [
        "## Hegy-síkság kisérletek"
      ]
    },
    {
      "cell_type": "code",
      "metadata": {
        "id": "EpleKLDVAbdw"
      },
      "source": [
        "def plain_field(N, a, d, l):\n",
        "  x, y, _,= cors(N)\n",
        "  h = np.exp(a*(x-d))\n",
        "  h1 = np.copy(h)\n",
        "  w = np.zeros((N, N))\n",
        "  h1[45:55, -l:] = h1[45:55, -l:].min()\n",
        "  w += h-h1\n",
        "  return h1.T+tilt_hf(N, 0.0, 0.1)+1.0, w.T\n",
        "def plain_experiment(wf, erosion, nu, bumps=0, K_evap=0.001, N=5000):\n",
        "  if len(wf) == 2:\n",
        "    h, w = wf\n",
        "    source = np.zeros(w.shape)\n",
        "  else:\n",
        "    h, w, source = wf\n",
        "  bp = bumps*(w<1e-7)\n",
        "  res = for_sim(make_update(source, 0.1, dirs, gA=9.81, nu=nu, K_evap=K_evap, \n",
        "                                        erosion=erosion), h+bp, w, N=N)\n",
        "  return h+bp, w, source, res\n",
        "\n",
        "wf = plain_field(100, 0.05, 100, 10)\n",
        "ax = show_terrain(wf[0], wf[1])"
      ],
      "execution_count": null,
      "outputs": []
    },
    {
      "cell_type": "markdown",
      "metadata": {
        "id": "jt9-SvrWEo1X"
      },
      "source": [
        "### Különböző mértékű disszipáció"
      ]
    },
    {
      "cell_type": "code",
      "metadata": {
        "id": "fx1PRlZpDZCr"
      },
      "source": [
        "res = plain_experiment(wf, zero_erosion, nu=0.01)\n",
        "before_after(res)"
      ],
      "execution_count": null,
      "outputs": []
    },
    {
      "cell_type": "code",
      "metadata": {
        "id": "9YtMI97nCiqF"
      },
      "source": [
        "res = plain_experiment(wf, zero_erosion, nu=0.1)\n",
        "before_after(res)"
      ],
      "execution_count": null,
      "outputs": []
    },
    {
      "cell_type": "code",
      "metadata": {
        "id": "B1_eHuYSETag"
      },
      "source": [
        "res = plain_experiment(wf, zero_erosion, nu=1.0)\n",
        "before_after(res)"
      ],
      "execution_count": null,
      "outputs": []
    },
    {
      "cell_type": "markdown",
      "metadata": {
        "id": "KmkXihS0E8R4"
      },
      "source": [
        "### Különböző mértékő erózió"
      ]
    },
    {
      "cell_type": "code",
      "metadata": {
        "id": "CSEGQSKLE7a6"
      },
      "source": [
        "res = plain_experiment(wf, make_erosion( K_dis = 0.01, K_depo = 0.01, signed_capacity=lambda v, s: 0.1*v - s, woff=0.05,wc=0, ), nu=0.1)\n",
        "before_after(res)"
      ],
      "execution_count": null,
      "outputs": []
    },
    {
      "cell_type": "code",
      "metadata": {
        "id": "RIbPnR-YGlDf"
      },
      "source": [
        "res = plain_experiment(wf, make_erosion( K_dis = 0.001, K_depo = 0.01, signed_capacity=lambda v, s: 0.1*v - s, woff=0.05,wc=0, ), nu=0.1)\n",
        "before_after(res)"
      ],
      "execution_count": null,
      "outputs": []
    },
    {
      "cell_type": "code",
      "metadata": {
        "id": "DEYlmY-VHGFZ"
      },
      "source": [
        "res = plain_experiment(wf, make_erosion( K_dis = 0.005, K_depo = 0.001, signed_capacity=lambda v, s: 1.0*v - s, woff=0.05,wc=0, ), nu=0.1)\n",
        "before_after(res)"
      ],
      "execution_count": null,
      "outputs": []
    },
    {
      "cell_type": "code",
      "metadata": {
        "id": "AtV3LOB6IBoq"
      },
      "source": [
        "res = plain_experiment(wf, make_erosion( K_dis = 0.005, K_depo = 0.001, signed_capacity=lambda v, s: 1.0*v - s, woff=0.05,wc=0, ), nu=0.01)\n",
        "before_after(res)"
      ],
      "execution_count": null,
      "outputs": []
    },
    {
      "cell_type": "code",
      "metadata": {
        "id": "Cmz6bQ6fDsh_"
      },
      "source": [
        "ax = show_terrain(res[3][0].to_py(), res[3][1].to_py(), 0.03)"
      ],
      "execution_count": null,
      "outputs": []
    },
    {
      "cell_type": "markdown",
      "metadata": {
        "id": "FBGhPehFJMMt"
      },
      "source": [
        "### v-arányos erózió"
      ]
    },
    {
      "cell_type": "code",
      "metadata": {
        "id": "0SiQyVs1If9u"
      },
      "source": [
        "res = plain_experiment(wf, make_erosion( K_dis = 2e-4, K_depo = 2e-4, signed_capacity=lambda v, s: 1.0*v - s, woff=0.05,wc=-1.0, ), nu=0.3)\n",
        "before_after(res)"
      ],
      "execution_count": null,
      "outputs": []
    },
    {
      "cell_type": "code",
      "metadata": {
        "id": "lKNfU4GnI58Z"
      },
      "source": [
        "ax = show_terrain(res[3][0].to_py(), res[3][1].to_py(), 0.03)"
      ],
      "execution_count": null,
      "outputs": []
    },
    {
      "cell_type": "code",
      "metadata": {
        "id": "BxVXjNfJJqLi"
      },
      "source": [
        "res = plain_experiment(wf, make_erosion( K_dis = 2e-4, K_depo = 2e-4, signed_capacity=lambda v, s: 1.0*v - s, woff=0.05,wc=-1.0, ), nu=0.03)\n",
        "before_after(res)"
      ],
      "execution_count": null,
      "outputs": []
    },
    {
      "cell_type": "code",
      "metadata": {
        "id": "TxSVwXvgJzkZ"
      },
      "source": [
        "ax = show_terrain(res[3][0].to_py(), res[3][1].to_py(), 0.03)"
      ],
      "execution_count": null,
      "outputs": []
    },
    {
      "cell_type": "code",
      "metadata": {
        "id": "iFjtZeEiJ9zD"
      },
      "source": [
        "res = plain_experiment(wf, make_erosion( K_dis = 2e-2, K_depo = 2e-3, signed_capacity=lambda v, s: 1.0*v - s, woff=0.05,wc=-1.0, ), nu=0.03)\n",
        "before_after(res)"
      ],
      "execution_count": null,
      "outputs": []
    },
    {
      "cell_type": "code",
      "metadata": {
        "id": "OneQD8PUKeZ4"
      },
      "source": [
        "ax = show_terrain(res[3][0].to_py(), res[3][1].to_py(), 0.03)"
      ],
      "execution_count": null,
      "outputs": []
    },
    {
      "cell_type": "markdown",
      "metadata": {
        "id": "K7LC3I_VNRjG"
      },
      "source": [
        "## Véletlen kezdetű hegy-síkság kisérletek"
      ]
    },
    {
      "cell_type": "code",
      "metadata": {
        "id": "yU29kRqNFgI9"
      },
      "source": [
        "def bumps_hf(N, a, maxf, key):\n",
        "  f = rand.poisson(rand.PRNGKey(key), a, shape=(N, N))\n",
        "  f_ = np.fft.fftshift(np.fft.fft2(f), )\n",
        "  x, y, _ = cors(N)\n",
        "  f_[(x-N)**2 + (y-N)**2 > maxf**2] *= 0 \n",
        "  f2 = np.abs(np.fft.ifft2(np.fft.fftshift(f_)))\n",
        "  return f2\n",
        "bp = bumps_hf(100, 10, 45.0, 137)\n",
        "plt.figure(figsize=(8, 8))\n",
        "plt.imshow(bp)\n",
        "print(bp.min(), bp.max())\n"
      ],
      "execution_count": null,
      "outputs": []
    },
    {
      "cell_type": "code",
      "metadata": {
        "id": "WzvbDKW9QxKi"
      },
      "source": [
        "bp = bumps_hf(100, 3, 20.0, 137)\n",
        "print(bp.min(), bp.max())\n",
        "res = plain_experiment(wf, make_erosion( K_dis = 2e-4, K_depo = 2e-4, signed_capacity=lambda v, s: 1.0*v - s, woff=0.05,wc=-1.0, ), nu=0.03, \n",
        "                       bumps=bp*0.01)\n",
        "before_after(res)"
      ],
      "execution_count": null,
      "outputs": []
    },
    {
      "cell_type": "code",
      "metadata": {
        "id": "HvXKxcQJpU_C"
      },
      "source": [
        "bp = bumps_hf(100, 10, 35.0, 137)\n",
        "print(bp.min(), bp.max())\n",
        "res = plain_experiment(wf, make_erosion( K_dis = 2e-4, K_depo = 2e-4, signed_capacity=lambda v, s: 1.0*v - s, woff=0.01,wc=-1.0, ), nu=0.03, \n",
        "                       bumps=bp*0.04+0.1)\n",
        "before_after(res)"
      ],
      "execution_count": null,
      "outputs": []
    },
    {
      "cell_type": "code",
      "metadata": {
        "id": "Wqasbp9wUIB-"
      },
      "source": [
        "show_terrain(res[3][0].to_py(), res[3][1].to_py(), 0.03)"
      ],
      "execution_count": null,
      "outputs": []
    },
    {
      "cell_type": "code",
      "metadata": {
        "id": "acoKwILUTLhm"
      },
      "source": [
        "bp = bumps_hf(100, 3, 10.0, 137)\n",
        "print(bp.min(), bp.max())\n",
        "res = plain_experiment(wf, make_erosion( K_dis = 2e-4, K_depo = 2e-4, signed_capacity=lambda v, s: 1.0*v - s, woff=0.05,wc=-1.0, ), nu=0.03, \n",
        "                       bumps=bp*0.08+0.1)\n",
        "before_after(res)"
      ],
      "execution_count": null,
      "outputs": []
    },
    {
      "cell_type": "code",
      "metadata": {
        "id": "sRF1LGqpjMPT"
      },
      "source": [
        "show_terrain(res[3][0].to_py(), res[3][1].to_py(), 0.03)"
      ],
      "execution_count": null,
      "outputs": []
    },
    {
      "cell_type": "code",
      "metadata": {
        "id": "yvCAIBLNUNyK"
      },
      "source": [
        "import cv2\n",
        "from matplotlib.cm import get_cmap\n",
        "terra = get_cmap(\"terrain\")\n",
        "def Kth_log(update, h, w, N, K):\n",
        "\n",
        " def upd(i, state):\n",
        "    h, w, f, s, log= update(*state)\n",
        "    return (h, w, f, s)\n",
        "\n",
        " inner = for_sim_(upd, K)\n",
        " def logged(h, w, f, s):\n",
        "   h, w, f, s = inner((h, w, f, s))\n",
        "   return h, w, f, s, (h, w)\n",
        " res, log = trace_sim(logged, h, w, N)\n",
        " #res = for_sim(logged, h, w, N)\n",
        " return res, log\n",
        "\n",
        "def render(h, w, mi, ma, shift, wl=0.03, wmax=1.0):\n",
        " \n",
        "  h_ = h-mi\n",
        "  h_ = h_/ma\n",
        "  res = terra(h_+shift)\n",
        "  wi = (w>wl)[:,:,np.newaxis]\n",
        "  res *= ~wi\n",
        "  res += np.clip(wi*np.stack((1.0-w/wmax, 1.0-w/wmax, np.ones_like(w), np.ones_like(w)), -1), 0.0, 1.0)\n",
        "  return res[:,:,:3]\n",
        "\n",
        "def test_vid(wf, erosion, nu, bumps, fname, u=1, K_evap=0.001, N=500, K=10, wmax=0.3, wl=0.03):\n",
        "  if len(wf) == 2:\n",
        "    h, w = wf\n",
        "    source = np.zeros(w.shape)\n",
        "  else:\n",
        "    h, w, source = wf\n",
        "  bp = bumps*(w<1e-7)\n",
        "  res, log = Kth_log(make_update(source, 0.1, dirs, gA=9.81, nu=nu, K_evap=K_evap, \n",
        "                                        erosion=erosion), h+bp, w, N, K)\n",
        "  print(log[0].shape)\n",
        "  sh = (u*h.shape[0], u*h.shape[1])\n",
        "  writer = cv2.VideoWriter(fname,cv2.VideoWriter_fourcc(*\"XVID\"), 30, sh)\n",
        "  mi, ma, shift = h.min(), h.max()-h.min(), 0.35\n",
        "  for step in zip(log[0].to_py(), log[1].to_py()):\n",
        "    h_, w_ = step\n",
        "    r = render(h_, w_, mi, ma, shift, wmax=wmax, wl=wl)*255\n",
        "    res = cv2.resize(cv2.cvtColor( r.astype(np.uint8), cv2.COLOR_RGB2BGR ), sh , interpolation=0)\n",
        "    \n",
        "    writer.write(res)\n",
        "  writer.release()\n",
        "\n",
        "  return h+bp, w, source, res\n",
        "\n",
        "res1= test_vid(wf, make_erosion( K_dis = 2e-4, K_depo = 2e-4, signed_capacity=lambda v, s: 1.0*v - s, woff=0.05,wc=-1.0, ), nu=0.03, \n",
        "                       bumps=bp*0.08+0.1, fname=\"islands.avi\", u=3)"
      ],
      "execution_count": null,
      "outputs": []
    },
    {
      "cell_type": "markdown",
      "metadata": {
        "id": "Qpt_kyaWgGBR"
      },
      "source": [
        "## Vízesés-kisérlet"
      ]
    },
    {
      "cell_type": "code",
      "metadata": {
        "id": "SwqoZoo6b_LB"
      },
      "source": [
        "def waterfall_field(N, tilt, height ,a, b):\n",
        "\n",
        "  h = tilt_hf(N, tilt, 0.0)\n",
        "  print(h.shape)\n",
        "  h[:, N//2+5:] += height\n",
        "  h[:, (N//2-5):N//2+5] = np.linspace(h[0, N//2-5],h[0, N//2+5], 10)\n",
        "  h1 = np.copy(h)\n",
        "  w = np.zeros((N, N))\n",
        "  h1[N//2-a:N//2+a, :] += -b\n",
        "  w += (h-h1)*0.9\n",
        "  return h1.T+1.0, w.T\n",
        "wf = waterfall_field(100, 0.3, 1.0, 10, 0.1)\n",
        "ax = show_terrain(wf[0], wf[1])"
      ],
      "execution_count": null,
      "outputs": []
    },
    {
      "cell_type": "code",
      "metadata": {
        "id": "eULy_nLfgJta"
      },
      "source": [
        "res = plain_experiment(wf, make_erosion( K_dis = 2e-4, K_depo = 2e-4, signed_capacity=lambda v, s: 0.4*v - s, woff=0.01,wc=-1, ), nu=0.3, \n",
        "                       bumps=0)\n",
        "before_after(res)"
      ],
      "execution_count": null,
      "outputs": []
    },
    {
      "cell_type": "code",
      "metadata": {
        "id": "8cjAv10QhqJ-"
      },
      "source": [
        "ax = show_terrain(res[3][0].to_py(), res[3][1].to_py(), 0.03)"
      ],
      "execution_count": null,
      "outputs": []
    },
    {
      "cell_type": "markdown",
      "metadata": {
        "id": "ZVhzVd-lj5dP"
      },
      "source": [
        "## Esős kisérletek"
      ]
    },
    {
      "cell_type": "code",
      "metadata": {
        "id": "XeAnB64Fj-Ts"
      },
      "source": [
        "def runoff_hf(l, rain):\n",
        "  N = 400\n",
        "  edge = -abs_hf(N).T*0.1\n",
        "  #edge = np.zeros_like(x)#np.maximum(((x-N//2)/N*2)**2, ((y-N//2)/N*2)**2)\n",
        "  #pl = edge<l\n",
        "  #edge[pl] = edge[pl].max()\n",
        "  \n",
        "  edge += gauss_hf(N, 210,210, 70)*0.5\n",
        "  edge += gauss_hf(N, 350,150, 30)*0.7\n",
        "  edge += gauss_hf(N, 110,110, 40)*0.3\n",
        "  edge += tilt_hf(N, 0.1, 0.0)\n",
        "  edge += bumps_hf(N, 20, 10, 42)*0.1\n",
        "  s = np.zeros_like(edge)\n",
        "  s[5:-5, 5:-5] += rain\n",
        "  return edge.T+0.1, np.zeros_like(edge).T, s.T\n",
        "\n",
        "wf = runoff_hf(0.75, 0.001)\n",
        "ax = show_terrain(wf[0], wf[1])\n",
        "plt.figure(figsize=(6,6))\n",
        "plt.imshow(wf[0])"
      ],
      "execution_count": null,
      "outputs": []
    },
    {
      "cell_type": "code",
      "metadata": {
        "id": "VdOrfu5lnilQ"
      },
      "source": [
        "res = plain_experiment(wf, make_erosion( K_dis = 2e-4, K_depo = 2e-4, signed_capacity=lambda v, s: 0.1*v - s, woff=0.01,wc=-1, ), nu=0.03, \n",
        "                       bumps=0, K_evap=0.01, N=3000)\n",
        "before_after(res)"
      ],
      "execution_count": null,
      "outputs": []
    },
    {
      "cell_type": "code",
      "metadata": {
        "id": "YwhicAAHqYGb"
      },
      "source": [
        "ax = show_terrain(res[3][0].to_py()+1, res[3][1].to_py(), 0.01)"
      ],
      "execution_count": null,
      "outputs": []
    },
    {
      "cell_type": "code",
      "metadata": {
        "id": "X-BYFoqBt2_Y"
      },
      "source": [
        "res = plain_experiment(wf, make_erosion( K_dis = 2e-4, K_depo = 2e-4, signed_capacity=lambda v, s: 0.5*v - s, woff=0.01,wc=-1, ), nu=0.03, \n",
        "                       bumps=0, K_evap=0.01, N=3000)\n",
        "before_after(res)"
      ],
      "execution_count": null,
      "outputs": []
    },
    {
      "cell_type": "code",
      "metadata": {
        "id": "Yr7PfD0DrM7B"
      },
      "source": [
        "res = plain_experiment(wf, make_erosion( K_dis = 3e-4, K_depo = 3e-4, signed_capacity=lambda v, s: 1.0*v - s, woff=0.01,wc=-1, ), nu=0.03, \n",
        "                       bumps=0, K_evap=0.02, N=3000)\n",
        "before_after(res)"
      ],
      "execution_count": null,
      "outputs": []
    },
    {
      "cell_type": "code",
      "metadata": {
        "id": "NVsymCB_tuYI"
      },
      "source": [
        "res = plain_experiment(wf, make_erosion( K_dis = 4e-3, K_depo = 4e-3, signed_capacity=lambda v, s: 1.0*v - s, woff=0.01,wc=0, ), nu=0.01, \n",
        "                       bumps=0, K_evap=0.01, N=5000)\n",
        "before_after(res)"
      ],
      "execution_count": null,
      "outputs": []
    },
    {
      "cell_type": "code",
      "metadata": {
        "id": "MZYsurOxuhFr"
      },
      "source": [
        "ax = show_terrain(res[3][0].to_py()[2:-2, 2:-2]+1, res[3][1].to_py()[2:-2, 2:-2], 0.01)"
      ],
      "execution_count": null,
      "outputs": []
    },
    {
      "cell_type": "code",
      "metadata": {
        "id": "rAAeRDmovXWb"
      },
      "source": [
        "res = test_vid(wf, make_erosion( K_dis = 2e-4, K_depo = 2e-4, \n",
        "                                signed_capacity=lambda v, s: 1.0*v - s, woff=0.01,wc=-1, ), nu=0.01, \n",
        "                       bumps=0, fname=\"runoff.avi\",K_evap=0.02, N=500, K=10, u=1, wmax=0.5, wl=0.01)"
      ],
      "execution_count": null,
      "outputs": []
    },
    {
      "cell_type": "code",
      "metadata": {
        "id": "PXIqhKi1wMhO"
      },
      "source": [
        ""
      ],
      "execution_count": null,
      "outputs": []
    }
  ]
}