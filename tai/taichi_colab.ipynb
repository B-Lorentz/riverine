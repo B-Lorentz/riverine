{
  "nbformat": 4,
  "nbformat_minor": 0,
  "metadata": {
    "colab": {
      "name": "Copy of taichi_colab.ipynb",
      "provenance": [],
      "collapsed_sections": [],
      "toc_visible": true,
      "include_colab_link": true
    },
    "kernelspec": {
      "name": "python3",
      "display_name": "Python 3"
    },
    "accelerator": "GPU"
  },
  "cells": [
    {
      "cell_type": "markdown",
      "metadata": {
        "id": "view-in-github",
        "colab_type": "text"
      },
      "source": [
        "<a href=\"https://colab.research.google.com/github/B-Lorentz/riverine/blob/master/tai/taichi_colab.ipynb\" target=\"_parent\"><img src=\"https://colab.research.google.com/assets/colab-badge.svg\" alt=\"Open In Colab\"/></a>"
      ]
    },
    {
      "cell_type": "markdown",
      "metadata": {
        "id": "fXU98l7F06XK"
      },
      "source": [
        "## Using [Taichi](http://taichi.graphics/) on Colab kernels"
      ]
    },
    {
      "cell_type": "code",
      "metadata": {
        "id": "8emHrkFgGtRg",
        "colab": {
          "base_uri": "https://localhost:8080/"
        },
        "outputId": "5e44f631-6108-41ee-9a2c-86eaa7be732b"
      },
      "source": [
        "# Taichi crash on Colab workaround (see https://github.com/taichi-dev/taichi/issues/235)\n",
        "\n",
        "import os, json, signal, time\n",
        "if 'libtcmalloc' in os.environ.get('LD_PRELOAD', ''):\n",
        "  kernel_fn = '/usr/local/share/jupyter/kernels/python3/kernel.json'\n",
        "  spec = json.load(open(kernel_fn))\n",
        "  spec['env'] = {'LD_PRELOAD': ''}\n",
        "  json.dump(spec, open(kernel_fn, 'w'))\n",
        "  print(\"Installed Taichi workaround. Don't wait for this cell to finish,\")\n",
        "  print('just REFRESH the browser tab and RUN this cell again.', flush=True)\n",
        "  time.sleep(0.5)\n",
        "  # killing the kernel manager so that specs get reloaded\n",
        "  os.kill(os.getppid(), signal.SIGTERM)\n",
        "else:\n",
        "  print('Kernel is Taichi-ready!')\n"
      ],
      "execution_count": null,
      "outputs": [
        {
          "output_type": "stream",
          "text": [
            "Kernel is Taichi-ready!\n"
          ],
          "name": "stdout"
        }
      ]
    },
    {
      "cell_type": "code",
      "metadata": {
        "id": "uuYuj4v-Fqpy",
        "cellView": "form"
      },
      "source": [
        "#@title imports & utils\n",
        "import os\n",
        "import io\n",
        "import PIL.Image, PIL.ImageDraw\n",
        "import base64\n",
        "import numpy as np\n",
        "import matplotlib.pylab as pl\n",
        "\n",
        "from IPython.display import Image, HTML, clear_output\n",
        "import tqdm\n",
        "\n",
        "import os\n",
        "os.environ['FFMPEG_BINARY'] = 'ffmpeg'\n",
        "import moviepy.editor as mvp\n",
        "from moviepy.video.io.ffmpeg_writer import FFMPEG_VideoWriter\n",
        "clear_output()\n",
        "\n",
        "def np2pil(a):\n",
        "  if a.dtype in [np.float32, np.float64]:\n",
        "    a = np.uint8(np.clip(a, 0, 1)*255)\n",
        "  return PIL.Image.fromarray(a)\n",
        "\n",
        "def imwrite(f, a, fmt=None):\n",
        "  a = np.asarray(a)\n",
        "  if isinstance(f, str):\n",
        "    fmt = f.rsplit('.', 1)[-1].lower()\n",
        "    if fmt == 'jpg':\n",
        "      fmt = 'jpeg'\n",
        "    f = open(f, 'wb')\n",
        "  np2pil(a).save(f, fmt, quality=95)\n",
        "\n",
        "def imencode(a, fmt='jpeg'):\n",
        "  a = np.asarray(a)\n",
        "  if len(a.shape) == 3 and a.shape[-1] == 4:\n",
        "    fmt = 'png'\n",
        "  f = io.BytesIO()\n",
        "  imwrite(f, a, fmt)\n",
        "  return f.getvalue()\n",
        "\n",
        "def im2url(a, fmt='jpeg'):\n",
        "  encoded = imencode(a, fmt)\n",
        "  base64_byte_string = base64.b64encode(encoded).decode('ascii')\n",
        "  return 'data:image/' + fmt.upper() + ';base64,' + base64_byte_string\n",
        "\n",
        "def imshow(a, fmt='jpeg'):\n",
        "  display(Image(data=imencode(a, fmt)))\n",
        "\n",
        "\n",
        "class VideoWriter:\n",
        "  def __init__(self, filename, fps=30.0, **kw):\n",
        "    self.writer = None\n",
        "    self.params = dict(filename=filename, fps=fps, **kw)\n",
        "\n",
        "  def add(self, img):\n",
        "    img = np.asarray(img)\n",
        "    if self.writer is None:\n",
        "      h, w = img.shape[:2]\n",
        "      self.writer = FFMPEG_VideoWriter(size=(w, h), **self.params)\n",
        "    if img.dtype in [np.float32, np.float64]:\n",
        "      img = np.uint8(img.clip(0, 1)*255)\n",
        "    if len(img.shape) == 2:\n",
        "      img = np.repeat(img[..., None], 3, -1)\n",
        "    self.writer.write_frame(img)\n",
        "\n",
        "  def close(self):\n",
        "    if self.writer:\n",
        "      self.writer.close()\n",
        "\n",
        "  def __enter__(self):\n",
        "    return self\n",
        "\n",
        "  def __exit__(self, *kw):\n",
        "    self.close()"
      ],
      "execution_count": null,
      "outputs": []
    },
    {
      "cell_type": "code",
      "metadata": {
        "id": "nQvh0pgDmTGO",
        "colab": {
          "base_uri": "https://localhost:8080/"
        },
        "outputId": "fde8cab7-7229-49aa-dc40-3aa4e782613a"
      },
      "source": [
        "!pip install taichi-nightly-cuda-10-1==0.5.2"
      ],
      "execution_count": null,
      "outputs": [
        {
          "output_type": "stream",
          "text": [
            "Collecting taichi-nightly-cuda-10-1==0.5.2\n",
            "\u001b[?25l  Downloading https://files.pythonhosted.org/packages/64/27/0fbe392837a7db8fa6f93dc635d3e83628b30fd0e1be63116254cf286ad4/taichi_nightly_cuda_10_1-0.5.2-cp37-cp37m-manylinux1_x86_64.whl (51.7MB)\n",
            "\u001b[K     |████████████████████████████████| 51.7MB 59kB/s \n",
            "\u001b[?25hRequirement already satisfied: astor in /usr/local/lib/python3.7/dist-packages (from taichi-nightly-cuda-10-1==0.5.2) (0.8.1)\n",
            "Collecting pybind11\n",
            "\u001b[?25l  Downloading https://files.pythonhosted.org/packages/8d/43/7339dbabbc2793718d59703aace4166f53c29ee1c202f6ff5bf8a26c4d91/pybind11-2.6.2-py2.py3-none-any.whl (191kB)\n",
            "\u001b[K     |████████████████████████████████| 194kB 57.8MB/s \n",
            "\u001b[?25hRequirement already satisfied: setuptools in /usr/local/lib/python3.7/dist-packages (from taichi-nightly-cuda-10-1==0.5.2) (54.2.0)\n",
            "Requirement already satisfied: pytest in /usr/local/lib/python3.7/dist-packages (from taichi-nightly-cuda-10-1==0.5.2) (3.6.4)\n",
            "Requirement already satisfied: numpy in /usr/local/lib/python3.7/dist-packages (from taichi-nightly-cuda-10-1==0.5.2) (1.19.5)\n",
            "Collecting colorama\n",
            "  Downloading https://files.pythonhosted.org/packages/44/98/5b86278fbbf250d239ae0ecb724f8572af1c91f4a11edf4d36a206189440/colorama-0.4.4-py2.py3-none-any.whl\n",
            "Requirement already satisfied: py>=1.5.0 in /usr/local/lib/python3.7/dist-packages (from pytest->taichi-nightly-cuda-10-1==0.5.2) (1.10.0)\n",
            "Requirement already satisfied: six>=1.10.0 in /usr/local/lib/python3.7/dist-packages (from pytest->taichi-nightly-cuda-10-1==0.5.2) (1.15.0)\n",
            "Requirement already satisfied: attrs>=17.4.0 in /usr/local/lib/python3.7/dist-packages (from pytest->taichi-nightly-cuda-10-1==0.5.2) (20.3.0)\n",
            "Requirement already satisfied: atomicwrites>=1.0 in /usr/local/lib/python3.7/dist-packages (from pytest->taichi-nightly-cuda-10-1==0.5.2) (1.4.0)\n",
            "Requirement already satisfied: more-itertools>=4.0.0 in /usr/local/lib/python3.7/dist-packages (from pytest->taichi-nightly-cuda-10-1==0.5.2) (8.7.0)\n",
            "Requirement already satisfied: pluggy<0.8,>=0.5 in /usr/local/lib/python3.7/dist-packages (from pytest->taichi-nightly-cuda-10-1==0.5.2) (0.7.1)\n",
            "Installing collected packages: pybind11, colorama, taichi-nightly-cuda-10-1\n",
            "Successfully installed colorama-0.4.4 pybind11-2.6.2 taichi-nightly-cuda-10-1-0.5.2\n"
          ],
          "name": "stdout"
        }
      ]
    },
    {
      "cell_type": "code",
      "metadata": {
        "id": "WK0yoYP0Diuv",
        "colab": {
          "base_uri": "https://localhost:8080/"
        },
        "outputId": "38cab8b6-a14b-46c6-cb71-c094864517ff"
      },
      "source": [
        "# from 'mpm88.py'\n",
        "\n",
        "import taichi as ti\n",
        "import random\n",
        "\n",
        "ti.reset()\n",
        "\n",
        "ti.init(arch=ti.cuda)\n",
        "\n",
        "dim = 2\n",
        "n_particles = 8192\n",
        "n_grid = 128\n",
        "dx = 1 / n_grid\n",
        "inv_dx = 1 / dx\n",
        "dt = 2.0e-4\n",
        "p_vol = (dx * 0.5)**2\n",
        "p_rho = 1\n",
        "p_mass = p_vol * p_rho\n",
        "E = 400\n",
        "img_size = 512\n",
        "\n",
        "x = ti.Vector(dim, dt=ti.f32, shape=n_particles)\n",
        "v = ti.Vector(dim, dt=ti.f32, shape=n_particles)\n",
        "C = ti.Matrix(dim, dim, dt=ti.f32, shape=n_particles)\n",
        "J = ti.var(dt=ti.f32, shape=n_particles)\n",
        "grid_v = ti.Vector(dim, dt=ti.f32, shape=(n_grid, n_grid))\n",
        "grid_m = ti.var(dt=ti.f32, shape=(n_grid, n_grid))\n",
        "grid_img = ti.Vector(3, dt=ti.f32, shape=(img_size, img_size))\n",
        "\n",
        "@ti.kernel\n",
        "def substep():\n",
        "  for p in x:\n",
        "    base = (x[p] * inv_dx - 0.5).cast(int)\n",
        "    fx = x[p] * inv_dx - base.cast(float)\n",
        "    w = [0.5 * ti.sqr(1.5 - fx), 0.75 - ti.sqr(fx - 1), 0.5 * ti.sqr(fx - 0.5)]\n",
        "    stress = -dt * p_vol * (J[p] - 1) * 4 * inv_dx * inv_dx * E\n",
        "    affine = ti.Matrix([[stress, 0], [0, stress]]) + p_mass * C[p]\n",
        "    for i in ti.static(range(3)):\n",
        "      for j in ti.static(range(3)):\n",
        "        offset = ti.Vector([i, j])\n",
        "        dpos = (offset.cast(float) - fx) * dx\n",
        "        weight = w[i][0] * w[j][1]\n",
        "        grid_v[base + offset].atomic_add(\n",
        "            weight * (p_mass * v[p] + affine @ dpos))\n",
        "        grid_m[base + offset].atomic_add(weight * p_mass)\n",
        "\n",
        "  for i, j in grid_m:\n",
        "    if grid_m[i, j] > 0:\n",
        "      bound = 3\n",
        "      inv_m = 1 / grid_m[i, j]\n",
        "      grid_v[i, j] = inv_m * grid_v[i, j]\n",
        "      grid_v[i, j][1] -= dt * 9.8\n",
        "      if i < bound and grid_v[i, j][0] < 0:\n",
        "        grid_v[i, j][0] = 0\n",
        "      if i > n_grid - bound and grid_v[i, j][0] > 0:\n",
        "        grid_v[i, j][0] = 0\n",
        "      if j < bound and grid_v[i, j][1] < 0:\n",
        "        grid_v[i, j][1] = 0\n",
        "      if j > n_grid - bound and grid_v[i, j][1] > 0:\n",
        "        grid_v[i, j][1] = 0\n",
        "\n",
        "  for p in x:\n",
        "    base = (x[p] * inv_dx - 0.5).cast(int)\n",
        "    fx = x[p] * inv_dx - base.cast(float)\n",
        "    w = [\n",
        "        0.5 * ti.sqr(1.5 - fx), 0.75 - ti.sqr(fx - 1.0), 0.5 * ti.sqr(fx - 0.5)\n",
        "    ]\n",
        "    new_v = ti.Vector.zero(ti.f32, 2)\n",
        "    new_C = ti.Matrix.zero(ti.f32, 2, 2)\n",
        "    for i in ti.static(range(3)):\n",
        "      for j in ti.static(range(3)):\n",
        "        dpos = ti.Vector([i, j]).cast(float) - fx\n",
        "        g_v = grid_v[base + ti.Vector([i, j])]\n",
        "        weight = w[i][0] * w[j][1]\n",
        "        new_v += weight * g_v\n",
        "        new_C += 4 * weight * ti.outer_product(g_v, dpos) * inv_dx\n",
        "    v[p] = new_v\n",
        "    x[p] += dt * v[p]\n",
        "    J[p] *= 1 + dt * new_C.trace()\n",
        "    C[p] = new_C\n",
        "\n",
        "    # draw\n",
        "    xi = (x[p] * img_size).cast(int)\n",
        "    grid_img[xi] += ti.Vector([1.0, 1.0, 1.0])\n"
      ],
      "execution_count": null,
      "outputs": [
        {
          "output_type": "stream",
          "text": [
            "[Release mode]\n",
            "[Taichi version 0.5.2, cuda 10.1, commit 4d56959a]\n"
          ],
          "name": "stdout"
        }
      ]
    },
    {
      "cell_type": "code",
      "metadata": {
        "id": "pEsqVKCXCpfV",
        "colab": {
          "base_uri": "https://localhost:8080/",
          "height": 231
        },
        "outputId": "83b4fc2a-f897-48c7-e37f-7a33920854f9"
      },
      "source": [
        "import PIL.Image, PIL.ImageFont, PIL.ImageDraw\n",
        "import numpy as np\n",
        "import cv2\n",
        "def gen_points(s, font_size=42):\n",
        "  font = PIL.ImageFont.truetype('/usr/share/fonts/truetype/liberation/LiberationMono-Bold.ttf', font_size)\n",
        "  w, h = font.getsize(s)\n",
        "  im = PIL.Image.new('L', (w, h))\n",
        "  draw  = PIL.ImageDraw.Draw(im)\n",
        "  draw.text((0, 0), s, fill=255, font=font)\n",
        "  im = np.uint8(im)\n",
        "  y, x = np.float32(im.nonzero())\n",
        "  pos = np.column_stack([x, y]) / w\n",
        "  return pos\n",
        "\n",
        "pos = np.vstack([\n",
        "  gen_points(' Taichi ', 100)+(0.0, 0.1),\n",
        "  gen_points('   +   ', 100)+(0.0, 0.3),\n",
        "  gen_points(' Colab ', 100)+(0.0, 0.5),\n",
        "])\n",
        "pos[:,1] = 1.0-pos[:,1]\n",
        "np.random.shuffle(pos)\n",
        "pos = pos[:n_particles]\n",
        "\n",
        "for i in range(n_particles):\n",
        "  x[i] = pos[i]\n",
        "  v[i] = [0, 0]\n",
        "  J[i] = 1\n",
        "\n",
        "\n",
        "\n",
        "with cv2.VideoWriter('mpm88.mp4', 60) as vid:\n",
        "  frames = []\n",
        "  for frame in tqdm.trange(60*5):\n",
        "    grid_img.fill([0, 0, 0])\n",
        "    for s in range(20):\n",
        "      grid_v.fill([0, 0])\n",
        "      grid_m.fill(0)\n",
        "      substep()\n",
        "    vis = grid_img.to_numpy()[...,0]/20\n",
        "    vis **= 1/2.2  # gamma correction\n",
        "    vis = vis.swapaxes(0, 1)[::-1]\n",
        "    frames.append(vis)\n",
        "    vid.add(vis)\n",
        "\n",
        "  for vis in tqdm.tqdm(frames[::-1]):\n",
        "    vid.add(vis)\n",
        "\n"
      ],
      "execution_count": null,
      "outputs": [
        {
          "output_type": "error",
          "ename": "TypeError",
          "evalue": "ignored",
          "traceback": [
            "\u001b[0;31m---------------------------------------------------------------------------\u001b[0m",
            "\u001b[0;31mTypeError\u001b[0m                                 Traceback (most recent call last)",
            "\u001b[0;32m<ipython-input-6-3e29f4d148cf>\u001b[0m in \u001b[0;36m<module>\u001b[0;34m()\u001b[0m\n\u001b[1;32m     29\u001b[0m \u001b[0;34m\u001b[0m\u001b[0m\n\u001b[1;32m     30\u001b[0m \u001b[0;34m\u001b[0m\u001b[0m\n\u001b[0;32m---> 31\u001b[0;31m \u001b[0;32mwith\u001b[0m \u001b[0mcv2\u001b[0m\u001b[0;34m.\u001b[0m\u001b[0mVideoWriter\u001b[0m\u001b[0;34m(\u001b[0m\u001b[0;34m'mpm88.mp4'\u001b[0m\u001b[0;34m,\u001b[0m \u001b[0;36m60\u001b[0m\u001b[0;34m)\u001b[0m \u001b[0;32mas\u001b[0m \u001b[0mvid\u001b[0m\u001b[0;34m:\u001b[0m\u001b[0;34m\u001b[0m\u001b[0;34m\u001b[0m\u001b[0m\n\u001b[0m\u001b[1;32m     32\u001b[0m   \u001b[0mframes\u001b[0m \u001b[0;34m=\u001b[0m \u001b[0;34m[\u001b[0m\u001b[0;34m]\u001b[0m\u001b[0;34m\u001b[0m\u001b[0;34m\u001b[0m\u001b[0m\n\u001b[1;32m     33\u001b[0m   \u001b[0;32mfor\u001b[0m \u001b[0mframe\u001b[0m \u001b[0;32min\u001b[0m \u001b[0mtqdm\u001b[0m\u001b[0;34m.\u001b[0m\u001b[0mtrange\u001b[0m\u001b[0;34m(\u001b[0m\u001b[0;36m60\u001b[0m\u001b[0;34m*\u001b[0m\u001b[0;36m5\u001b[0m\u001b[0;34m)\u001b[0m\u001b[0;34m:\u001b[0m\u001b[0;34m\u001b[0m\u001b[0;34m\u001b[0m\u001b[0m\n",
            "\u001b[0;31mTypeError\u001b[0m: VideoWriter() missing required argument 'fourcc' (pos 3)"
          ]
        }
      ]
    },
    {
      "cell_type": "code",
      "metadata": {
        "id": "djFkrAwKHEZH"
      },
      "source": [
        "mvp.ipython_display('mpm88.mp4', loop=True)"
      ],
      "execution_count": null,
      "outputs": []
    },
    {
      "cell_type": "code",
      "metadata": {
        "id": "ErKnkKZIvRZO"
      },
      "source": [
        ""
      ],
      "execution_count": null,
      "outputs": []
    }
  ]
}