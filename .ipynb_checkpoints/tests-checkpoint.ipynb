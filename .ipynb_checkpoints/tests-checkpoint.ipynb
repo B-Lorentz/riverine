{
 "cells": [
  {
   "cell_type": "code",
   "execution_count": 3,
   "metadata": {},
   "outputs": [],
   "source": [
    "import numpy as np\n",
    "from matplotlib import pyplot as plt\n",
    "from sympy import *\n",
    "init_printing()"
   ]
  },
  {
   "cell_type": "code",
   "execution_count": 15,
   "metadata": {},
   "outputs": [
    {
     "data": {
      "image/png": "[encoded data removed]",
      "text/latex": [
       "$$\\frac{8}{\\pi h^{3}}$$"
      ],
      "text/plain": [
       " 8  \n",
       "────\n",
       "   3\n",
       "π⋅h "
      ]
     },
     "execution_count": 15,
     "metadata": {},
     "output_type": "execute_result"
    }
   ],
   "source": [
    "r, h, q = symbols(\" r h q\", real=True)\n",
    "sigma = 8/h**3/pi\n",
    "sigma"
   ]
  },
  {
   "cell_type": "code",
   "execution_count": 16,
   "metadata": {},
   "outputs": [
    {
     "data": {
      "text/latex": [
       "$$\\begin{cases} 0 & \\text{for}\\: h < r \\\\\\frac{16 \\left(1 - \\frac{r}{h}\\right)^{3}}{\\pi h^{3}} & \\text{for}\\: r > \\frac{h}{2} \\\\\\frac{8 \\left(1 - \\frac{6 r^{2}}{h^{2}} + \\frac{6 r^{3}}{h^{3}}\\right)}{\\pi h^{3}} & \\text{for}\\: r \\geq 0 \\\\0 & \\text{otherwise} \\end{cases}$$"
      ],
      "text/plain": [
       "⎧         0           for h < r\n",
       "⎪                              \n",
       "⎪              3               \n",
       "⎪       ⎛    r⎞                \n",
       "⎪    16⋅⎜1 - ─⎟                \n",
       "⎪       ⎝    h⎠               h\n",
       "⎪    ───────────      for r > ─\n",
       "⎪           3                 2\n",
       "⎪        π⋅h                   \n",
       "⎪                              \n",
       "⎨  ⎛       2      3⎞           \n",
       "⎪  ⎜    6⋅r    6⋅r ⎟           \n",
       "⎪8⋅⎜1 - ──── + ────⎟           \n",
       "⎪  ⎜      2      3 ⎟           \n",
       "⎪  ⎝     h      h  ⎠           \n",
       "⎪───────────────────  for r ≥ 0\n",
       "⎪           3                  \n",
       "⎪        π⋅h                   \n",
       "⎪                              \n",
       "⎪         0           otherwise\n",
       "⎩                              "
      ]
     },
     "execution_count": 16,
     "metadata": {},
     "output_type": "execute_result"
    }
   ],
   "source": [
    "out = sigma*2*(1-r/h)**3\n",
    "inn = sigma*(6*((r/h)**3 - (r/h)**2) + 1)\n",
    "W = Piecewise((0 , r > h), (out, r> h/2), (inn, r >=0), (0, True))\n",
    "W"
   ]
  },
  {
   "cell_type": "code",
   "execution_count": 19,
   "metadata": {},
   "outputs": [
    {
     "data": {
      "text/latex": [
       "$$\\begin{cases} 0 & \\text{for}\\: h < r \\\\- \\frac{48 \\left(q - 1\\right)^{2}}{\\pi h^{4}} & \\text{for}\\: r > \\frac{h}{2} \\\\\\frac{48 q \\left(3 q - 2\\right)}{\\pi h^{4}} & \\text{for}\\: r \\geq 0 \\\\0 & \\text{otherwise} \\end{cases}$$"
      ],
      "text/plain": [
       "⎧      0         for h < r\n",
       "⎪                         \n",
       "⎪           2             \n",
       "⎪-48⋅(q - 1)             h\n",
       "⎪─────────────   for r > ─\n",
       "⎪        4               2\n",
       "⎪     π⋅h                 \n",
       "⎨                         \n",
       "⎪48⋅q⋅(3⋅q - 2)           \n",
       "⎪──────────────  for r ≥ 0\n",
       "⎪        4                \n",
       "⎪     π⋅h                 \n",
       "⎪                         \n",
       "⎪      0         otherwise\n",
       "⎩                         "
      ]
     },
     "execution_count": 19,
     "metadata": {},
     "output_type": "execute_result"
    }
   ],
   "source": [
    "W_ = diff(W, r)\n",
    "W_.subs(r/h, q).simplify()"
   ]
  },
  {
   "cell_type": "code",
   "execution_count": 79,
   "metadata": {},
   "outputs": [
    {
     "data": {
      "image/png": "[encoded data removed]",
      "text/latex": [
       "$$\\left ( 99, \\quad 8\\right )$$"
      ],
      "text/plain": [
       "(99, 8)"
      ]
     },
     "execution_count": 79,
     "metadata": {},
     "output_type": "execute_result"
    }
   ],
   "source": [
    "s = !./build/riverine_test\n",
    "wres = np.stack(list(map(lambda s_: np.fromiter(map(float, s_[:-1].split(\" \")), dtype=np.float64), s[1:])))\n",
    "wres.shape"
   ]
  },
  {
   "cell_type": "code",
   "execution_count": 80,
   "metadata": {},
   "outputs": [
    {
     "name": "stdout",
     "output_type": "stream",
     "text": [
      "(99,)\n"
     ]
    },
    {
     "data": {
      "image/png": "[encoded data removed]",
      "text/plain": [
       "<Figure size 720x720 with 1 Axes>"
      ]
     },
     "metadata": {
      "needs_background": "light"
     },
     "output_type": "display_data"
    }
   ],
   "source": [
    "Wf = lambdify([r, h], W)\n",
    "Wf_ = lambdify([r, h], W_)\n",
    "plt.figure(figsize=(10,10))\n",
    "rres = np.linalg.norm( wres[:,1:4], 2, axis=-1)\n",
    "print(rres.shape)\n",
    "plt.plot(rres, Wf(rres, wres[:,0]), \"b\")\n",
    "plt.plot(rres, wres[:,2]*Wf_(rres, wres[:,0])/rres, \"r\")\n",
    "plt.plot(rres, wres[:,4], \"bx\")\n",
    "plt.plot(rres, wres[:,6], \"rx\")\n",
    "plt.grid()"
   ]
  },
  {
   "cell_type": "code",
   "execution_count": 72,
   "metadata": {},
   "outputs": [
    {
     "data": {
      "text/plain": [
       "array([ 1.00000e+00,  2.67261e-03,  5.34522e-03,  8.01784e-03,\n",
       "        4.94169e+00, -8.04440e-02, -1.60888e-01, -2.41332e-01])"
      ]
     },
     "execution_count": 72,
     "metadata": {},
     "output_type": "execute_result"
    }
   ],
   "source": [
    "wres[0,:]"
   ]
  },
  {
   "cell_type": "code",
   "execution_count": null,
   "metadata": {},
   "outputs": [],
   "source": []
  }
 ],
 "metadata": {
  "kernelspec": {
   "display_name": "Python 3",
   "language": "python",
   "name": "python3"
  },
  "language_info": {
   "codemirror_mode": {
    "name": "ipython",
    "version": 3
   },
   "file_extension": ".py",
   "mimetype": "text/x-python",
   "name": "python",
   "nbconvert_exporter": "python",
   "pygments_lexer": "ipython3",
   "version": "3.7.5"
  }
 },
 "nbformat": 4,
 "nbformat_minor": 2
}
